{
 "cells": [
  {
   "cell_type": "code",
   "execution_count": 1,
   "metadata": {},
   "outputs": [],
   "source": [
    "import os\n",
    "import torch\n",
    "import matplotlib.pyplot as plt"
   ]
  },
  {
   "cell_type": "markdown",
   "metadata": {},
   "source": [
    "## Carga del dataset"
   ]
  },
  {
   "cell_type": "code",
   "execution_count": 2,
   "metadata": {},
   "outputs": [],
   "source": [
    "from datasets.tusimple import TUSimpleDataset\n",
    "\n",
    "BATCH_SIZE = 8\n",
    "\n",
    "# Carga del dataset de entrenamiento\n",
    "train_dataset = TUSimpleDataset()\n",
    "train_dataloader = torch.utils.data.DataLoader(train_dataset, BATCH_SIZE, shuffle=False)"
   ]
  },
  {
   "cell_type": "markdown",
   "metadata": {},
   "source": [
    "## Entrenamiento del modelo"
   ]
  },
  {
   "cell_type": "code",
   "execution_count": 3,
   "metadata": {},
   "outputs": [
    {
     "name": "stderr",
     "output_type": "stream",
     "text": [
      "100%|██████████| 402/402 [46:15<00:00,  6.90s/it]\n"
     ]
    },
    {
     "name": "stdout",
     "output_type": "stream",
     "text": [
      "Epoch 1: Binary Loss = 0.1904,Instance Loss = 1.6621,Binary Accuracy = 0.9310\n"
     ]
    },
    {
     "name": "stderr",
     "output_type": "stream",
     "text": [
      "100%|██████████| 402/402 [45:49<00:00,  6.84s/it]\n"
     ]
    },
    {
     "name": "stdout",
     "output_type": "stream",
     "text": [
      "Epoch 2: Binary Loss = 0.0640,Instance Loss = 0.2915,Binary Accuracy = 0.9731\n"
     ]
    },
    {
     "name": "stderr",
     "output_type": "stream",
     "text": [
      "100%|██████████| 402/402 [49:13<00:00,  7.35s/it]\n"
     ]
    },
    {
     "name": "stdout",
     "output_type": "stream",
     "text": [
      "Epoch 3: Binary Loss = 0.0550,Instance Loss = 0.1984,Binary Accuracy = 0.9739\n"
     ]
    },
    {
     "name": "stderr",
     "output_type": "stream",
     "text": [
      "100%|██████████| 402/402 [52:41<00:00,  7.86s/it]\n"
     ]
    },
    {
     "name": "stdout",
     "output_type": "stream",
     "text": [
      "Epoch 4: Binary Loss = 0.0512,Instance Loss = 0.1388,Binary Accuracy = 0.9749\n"
     ]
    },
    {
     "name": "stderr",
     "output_type": "stream",
     "text": [
      "100%|██████████| 402/402 [53:55<00:00,  8.05s/it]\n"
     ]
    },
    {
     "name": "stdout",
     "output_type": "stream",
     "text": [
      "Epoch 5: Binary Loss = 0.0493,Instance Loss = 0.1122,Binary Accuracy = 0.9759\n"
     ]
    },
    {
     "name": "stderr",
     "output_type": "stream",
     "text": [
      "100%|██████████| 402/402 [53:46<00:00,  8.03s/it]\n"
     ]
    },
    {
     "name": "stdout",
     "output_type": "stream",
     "text": [
      "Epoch 6: Binary Loss = 0.0482,Instance Loss = 0.0861,Binary Accuracy = 0.9765\n"
     ]
    },
    {
     "name": "stderr",
     "output_type": "stream",
     "text": [
      "100%|██████████| 402/402 [53:47<00:00,  8.03s/it]\n"
     ]
    },
    {
     "name": "stdout",
     "output_type": "stream",
     "text": [
      "Epoch 7: Binary Loss = 0.0473,Instance Loss = 0.0643,Binary Accuracy = 0.9768\n"
     ]
    },
    {
     "name": "stderr",
     "output_type": "stream",
     "text": [
      "100%|██████████| 402/402 [53:46<00:00,  8.03s/it]\n"
     ]
    },
    {
     "name": "stdout",
     "output_type": "stream",
     "text": [
      "Epoch 8: Binary Loss = 0.0460,Instance Loss = 0.0529,Binary Accuracy = 0.9777\n"
     ]
    },
    {
     "name": "stderr",
     "output_type": "stream",
     "text": [
      "100%|██████████| 402/402 [53:47<00:00,  8.03s/it]\n"
     ]
    },
    {
     "name": "stdout",
     "output_type": "stream",
     "text": [
      "Epoch 9: Binary Loss = 0.0450,Instance Loss = 0.0462,Binary Accuracy = 0.9791\n"
     ]
    },
    {
     "name": "stderr",
     "output_type": "stream",
     "text": [
      "100%|██████████| 402/402 [53:52<00:00,  8.04s/it]\n"
     ]
    },
    {
     "name": "stdout",
     "output_type": "stream",
     "text": [
      "Epoch 10: Binary Loss = 0.0436,Instance Loss = 0.0429,Binary Accuracy = 0.9812\n"
     ]
    }
   ],
   "source": [
    "from models.enet import ENet\n",
    "\n",
    "NUM_EPOCHS = 10\n",
    "\n",
    "# Creación del modelo ENet\n",
    "enet_model = ENet(binary_seg=2, embedding_dim=4)\n",
    "\n",
    "# Configurando el dispositivo con el que se ejecuta el modelo\n",
    "device = torch.device(\"cuda\" if torch.cuda.is_available() else \"cpu\")\n",
    "enet_model.to(device)\n",
    "\n",
    "# Definición del optimizador\n",
    "params = [p for p in enet_model.parameters() if p.requires_grad]\n",
    "optimizer = torch.optim.Adam(params, lr=0.0005, weight_decay=0.0002)\n",
    "\n",
    "# Entrenamiento del modelo\n",
    "binary_losses, _, train_accuracies = enet_model.fit(\n",
    "    NUM_EPOCHS, train_dataloader, optimizer, device\n",
    ")\n",
    "\n",
    "# Guardado del modelo\n",
    "torch.save(enet_model.state_dict(), os.path.join(\"saved_models\", \"enet_model.pth\"))"
   ]
  },
  {
   "cell_type": "markdown",
   "metadata": {},
   "source": [
    "## Testeo del modelo"
   ]
  },
  {
   "cell_type": "code",
   "execution_count": 4,
   "metadata": {},
   "outputs": [
    {
     "name": "stdout",
     "output_type": "stream",
     "text": [
      "Training Accuracy: 0.9720100901020107\n",
      "Test Accuracy: 0.9764885879144436\n"
     ]
    }
   ],
   "source": [
    "import numpy as np\n",
    "from utils import accuracy_score\n",
    "\n",
    "# Carga del dataset de test\n",
    "test_dataset = TUSimpleDataset(train=False)\n",
    "\n",
    "# Testeo del modelo\n",
    "test_accuracies = []\n",
    "for img, segmentation_image, instance_target in test_dataset:\n",
    "\tbinary_seg, instance_seg = enet_model.predict(img)\n",
    "\taccuracy = accuracy_score(\n",
    "\t\tsegmentation_image.numpy().astype(np.uint8), binary_seg.astype(np.uint8)\n",
    "\t)\n",
    "\n",
    "\ttest_accuracies.append(accuracy)\n",
    "\n",
    "# Promedio de accuracies de test y entrenamiento\n",
    "test_accuracy = sum(test_accuracies) / len(test_accuracies)\n",
    "train_accuracy = sum(train_accuracies) / len(train_accuracies)\n",
    "\n",
    "print(f\"Training Accuracy: {train_accuracy}\")\n",
    "print(f\"Test Accuracy: {test_accuracy}\")"
   ]
  },
  {
   "cell_type": "markdown",
   "metadata": {},
   "source": [
    "Podemos observar que los accuracies son muy similares, por lo tanto no presenta overfitting."
   ]
  },
  {
   "cell_type": "markdown",
   "metadata": {},
   "source": [
    "## Gráficas de los resultados"
   ]
  },
  {
   "cell_type": "code",
   "execution_count": 7,
   "metadata": {},
   "outputs": [
    {
     "data": {
      "image/png": "[encoded data removed]",
      "text/plain": [
       "<Figure size 1200x600 with 2 Axes>"
      ]
     },
     "metadata": {},
     "output_type": "display_data"
    }
   ],
   "source": [
    "# Gráficas de pérdida y accuracy del entrenamiento por epochs\n",
    "plt.figure(figsize=(12, 6))\n",
    "\n",
    "# Gráfica de Binary Segmentation Loss\n",
    "plt.subplot(2, 2, 1)\n",
    "plt.plot(range(NUM_EPOCHS), binary_losses, label=\"Binary Loss\", color=\"b\")\n",
    "plt.xlabel(\"Epochs\")\n",
    "plt.ylabel(\"Loss\")\n",
    "plt.title(\"Binary Segmentation Loss Over Epochs\")\n",
    "plt.legend()\n",
    "\n",
    "# Gráfica de Binary Segmentation Accuracy\n",
    "plt.subplot(2, 2, 2)\n",
    "plt.plot(range(NUM_EPOCHS), train_accuracies, label=\"Binary Accuracy\", color=\"g\")\n",
    "plt.xlabel(\"Epochs\")\n",
    "plt.ylabel(\"Accuracy\")\n",
    "plt.title(\"Binary Segmentation Accuracy Over Epochs\")\n",
    "plt.legend()\n",
    "\n",
    "plt.tight_layout()\n",
    "plt.show()"
   ]
  }
 ],
 "metadata": {
  "kernelspec": {
   "display_name": ".venv",
   "language": "python",
   "name": "python3"
  },
  "language_info": {
   "codemirror_mode": {
    "name": "ipython",
    "version": 3
   },
   "file_extension": ".py",
   "mimetype": "text/x-python",
   "name": "python",
   "nbconvert_exporter": "python",
   "pygments_lexer": "ipython3",
   "version": "3.11.6"
  }
 },
 "nbformat": 4,
 "nbformat_minor": 2
}
